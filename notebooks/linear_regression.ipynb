{
 "cells": [
  {
   "cell_type": "markdown",
   "id": "29c77002",
   "metadata": {},
   "source": [
    "# 📊 Regresión Lineal con PyTorch\n",
    "### Caso: Predicción del peso de un gato según su tamaño\n",
    "\n",
    "En este notebook se implementa un modelo de **regresión lineal simple** con PyTorch. El objetivo es predecir el **peso de un gato (kg)** a partir de su **tamaño (cm)**.\n",
    "\n",
    "Se mostrarán:\n",
    "- Generación de datos sintéticos.\n",
    "- Definición del modelo.\n",
    "- Entrenamiento con descenso de gradiente.\n",
    "- Evaluación y visualización de resultados."
   ]
  },
  {
   "cell_type": "code",
   "execution_count": null,
   "id": "36ef9dcc",
   "metadata": {},
   "outputs": [],
   "source": [
    "import torch\n",
    "from torch import nn\n",
    "import matplotlib.pyplot as plt\n",
    "import math\n",
    "\n",
    "torch.manual_seed(42)"
   ]
  },
  {
   "cell_type": "markdown",
   "id": "4b39ad92",
   "metadata": {},
   "source": [
    "## 1. Generación de datos sintéticos"
   ]
  },
  {
   "cell_type": "code",
   "execution_count": null,
   "id": "5e13563d",
   "metadata": {},
   "outputs": [],
   "source": [
    "x_raw = torch.linspace(20, 60, 200).unsqueeze(1)\n",
    "x = (x_raw - x_raw.mean()) / x_raw.std()\n",
    "y = 0.18 * x_raw - 2 + 0.5 * torch.randn(200, 1) + 0.02 * (x_raw**1.5) / 100\n",
    "\n",
    "plt.scatter(x_raw, y, alpha=0.6)\n",
    "plt.xlabel('Tamaño (cm)')\n",
    "plt.ylabel('Peso (kg)')\n",
    "plt.title('Datos sintéticos: Tamaño vs Peso de gatos')\n",
    "plt.show()"
   ]
  },
  {
   "cell_type": "markdown",
   "id": "ebd7177f",
   "metadata": {},
   "source": [
    "## 2. Definición del modelo"
   ]
  },
  {
   "cell_type": "code",
   "execution_count": null,
   "id": "adae67d3",
   "metadata": {},
   "outputs": [],
   "source": [
    "class LinearRegressor(nn.Module):\n",
    "    def __init__(self):\n",
    "        super().__init__()\n",
    "        self.linear = nn.Linear(1, 1)\n",
    "\n",
    "    def forward(self, x):\n",
    "        return self.linear(x)\n",
    "\n",
    "model = LinearRegressor()\n",
    "print(model)"
   ]
  },
  {
   "cell_type": "markdown",
   "id": "1bef6a71",
   "metadata": {},
   "source": [
    "## 3. Entrenamiento del modelo"
   ]
  },
  {
   "cell_type": "code",
   "execution_count": null,
   "id": "98b26d4b",
   "metadata": {},
   "outputs": [],
   "source": [
    "optim = torch.optim.SGD(model.parameters(), lr=0.001)\n",
    "loss_fn = nn.MSELoss()\n",
    "losses = []\n",
    "\n",
    "for epoch in range(1000):\n",
    "    pred = model(x)\n",
    "    loss = loss_fn(pred, y)\n",
    "    optim.zero_grad()\n",
    "    loss.backward()\n",
    "    optim.step()\n",
    "    losses.append(loss.item())\n",
    "\n",
    "plt.plot(losses)\n",
    "plt.xlabel('Epoch')\n",
    "plt.ylabel('MSE Loss')\n",
    "plt.title('Evolución de la pérdida')\n",
    "plt.show()\n",
    "\n",
    "print('Última pérdida:', losses[-1], ' | RMSE:', math.sqrt(losses[-1]))"
   ]
  },
  {
   "cell_type": "markdown",
   "id": "9a2f5637",
   "metadata": {},
   "source": [
    "## 4. Predicción de ejemplo"
   ]
  },
  {
   "cell_type": "code",
   "execution_count": null,
   "id": "c6f40811",
   "metadata": {},
   "outputs": [],
   "source": [
    "size = 40\n",
    "x_norm = (torch.tensor([[size]], dtype=torch.float32) - 40) / 10\n",
    "with torch.no_grad():\n",
    "    peso_pred = model(x_norm).item()\n",
    "print(f'Tamaño: {size} cm -> Peso predicho: {peso_pred:.2f} kg')"
   ]
  },
  {
   "cell_type": "markdown",
   "id": "77ad1518",
   "metadata": {},
   "source": [
    "## 5. Visualización del ajuste del modelo"
   ]
  },
  {
   "cell_type": "code",
   "execution_count": null,
   "id": "a475d37a",
   "metadata": {},
   "outputs": [],
   "source": [
    "with torch.no_grad():\n",
    "    y_pred = model(x)\n",
    "\n",
    "plt.scatter(x_raw, y, alpha=0.6, label='Datos reales')\n",
    "plt.plot(x_raw, y_pred, color='red', label='Recta aprendida')\n",
    "plt.xlabel('Tamaño (cm)')\n",
    "plt.ylabel('Peso (kg)')\n",
    "plt.legend()\n",
    "plt.title('Regresión Lineal: Ajuste del modelo')\n",
    "plt.show()"
   ]
  },
  {
   "cell_type": "markdown",
   "id": "fb50ab36",
   "metadata": {},
   "source": [
    "## 6. Conclusiones\n",
    "- El modelo lineal logra capturar la relación principal entre el **tamaño** y el **peso** de un gato.\n",
    "- Aunque los datos incluyen ruido, la recta aprendida aproxima correctamente la tendencia.\n",
    "- Este ejemplo muestra cómo PyTorch puede usarse para problemas básicos de regresión."
   ]
  }
 ],
 "metadata": {},
 "nbformat": 4,
 "nbformat_minor": 5
}
