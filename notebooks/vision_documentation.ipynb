{
 "cells": [
  {
   "cell_type": "markdown",
   "id": "f8bc9476",
   "metadata": {},
   "source": [
    "# 📘 Documentación - Módulo de Visión (MultiIA)\n",
    "\n",
    "Este notebook documenta el módulo **Visión** del proyecto **multiIA** (arquitectura hexagonal).  \n",
    "Objetivos alcanzados:\n",
    "- Detectar objetos en imágenes con YOLOv8 (inferencia).\n",
    "- Detectar personas en zona restringida.\n",
    "- Dibujar la zona y las detecciones usando OpenCV y guardar la imagen procesada.\n",
    "- Tests funcionales del endpoint `/vision/detect`.\n"
   ]
  },
  {
   "cell_type": "markdown",
   "id": "854c6d2c",
   "metadata": {},
   "source": [
    "## ⚙️ Flujo y estructura\n",
    "\n",
    "Flujo:\n",
    "1. Usuario sube imagen → endpoint `/vision/detect`.\n",
    "2. VisionService llama al detector (YoloDetector).\n",
    "3. Se revisa intersección con zona restringida.\n",
    "4. OpenCV dibuja: rectángulo rojo (zona) y cajas verdes (detecciones).\n",
    "5. Respuesta JSON + imagen procesada en `app/vision/uploads/processed/`.\n"
   ]
  },
  {
   "cell_type": "code",
   "execution_count": null,
   "id": "788439fd",
   "metadata": {
    "vscode": {
     "languageId": "plaintext"
    }
   },
   "outputs": [],
   "source": []
  },
  {
   "cell_type": "markdown",
   "id": "bbc20506",
   "metadata": {},
   "source": [
    "## 📦 Requisitos\n",
    "\n",
    "Instala (si no los tienes):\n",
    "```bash\n",
    "pip install opencv-python matplotlib pytest requests\n",
    "````\n",
    "\n",
    "> Nota: si vas a ejecutar VisionService.detect_objects() desde el notebook, el modelo YOLO se cargará (ultralytics). Si no quieres cargar el modelo en el notebook, simplemente visualiza imágenes ya procesadas en app/vision/uploads/processed/.\n",
    "\n",
    "Si usas YOLO desde el notebook, asegúrate de tener ultralytics instalado y el peso (p.ej. yolov8n.pt) accesible.\n"
   ]
  },
  {
   "cell_type": "markdown",
   "id": "e6f6e96b",
   "metadata": {},
   "source": [
    "# 🔲 CELDA 4 — Code (Rutas helper y creación de carpetas)"
   ]
  },
  {
   "cell_type": "code",
   "execution_count": null,
   "id": "b3c95caa",
   "metadata": {
    "vscode": {
     "languageId": "plaintext"
    }
   },
   "outputs": [],
   "source": [
    "from pathlib import Path\n",
    "import os\n",
    "\n",
    "PROJECT_ROOT = Path.cwd()   # normalmente la raíz del repo cuando abres el notebook desde la carpeta del proyecto\n",
    "VISION_DIR = PROJECT_ROOT / \"app\" / \"vision\"\n",
    "UPLOADS_DIR = VISION_DIR / \"uploads\"\n",
    "PROCESSED_DIR = UPLOADS_DIR / \"processed\"\n",
    "\n",
    "# Crear carpetas si no existen\n",
    "UPLOADS_DIR.mkdir(parents=True, exist_ok=True)\n",
    "PROCESSED_DIR.mkdir(parents=True, exist_ok=True)\n",
    "\n",
    "print(\"PROJECT_ROOT:\", PROJECT_ROOT)\n",
    "print(\"VISION_DIR:\", VISION_DIR)\n",
    "print(\"UPLOADS_DIR:\", UPLOADS_DIR)\n",
    "print(\"PROCESSED_DIR:\", PROCESSED_DIR)"
   ]
  },
  {
   "cell_type": "markdown",
   "id": "5f370828",
   "metadata": {},
   "source": [
    "## 🖼️ Cómo agregar imágenes a VSCode (para probar)\n",
    "1. En el Explorador de archivos de VSCode, crea la carpeta `notebooks/images/` o copia la imagen a `app/vision/uploads/`.\n",
    "2. Arrastra y suelta la imagen (por ejemplo `test.jpg`) dentro de esa carpeta.\n",
    "3. En las celdas de código abajo usa la ruta que pusiste (ej. `notebooks/images/test.jpg` o `app/vision/uploads/test.jpg`).\n"
   ]
  }
 ],
 "metadata": {
  "language_info": {
   "name": "python"
  }
 },
 "nbformat": 4,
 "nbformat_minor": 5
}
