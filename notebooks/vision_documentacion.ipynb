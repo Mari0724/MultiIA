{
  "cells": [
    {
      "cell_type": "markdown",
      "metadata": {},
      "source": [
        "# 🖼️ Detección de Objetos con Zona Restringida\n",
        "\n",
        "En este cuaderno documentamos el módulo de **Visión** desarrollado en la arquitectura hexagonal del proyecto *multiIA*.\n",
        "\n",
        "Objetivos:\n",
        "- Detectar objetos en imágenes.\n",
        "- Detectar personas en zona restringida.\n",
        "- Marcar y guardar la imagen con la zona restringida y detecciones.\n",
        "- Validar con **tests unitarios**.\n"
      ]
    },
    {
      "cell_type": "markdown",
      "id": "fabb697f",
      "metadata": {},
      "source": [
        "### Requisitos previos\n",
        "- Python 3.10+\n",
        "- FastAPI\n",
        "- OpenCV\n",
        "- PyTest\n",
        "- Uvicorn\n",
        "\n",
        "Instalación:\n",
        "```\n",
        "\n",
        "\n",
        "pip install fastapi opencv-python pytest uvicorn\n",
        "```"
      ]
    },
    {
      "cell_type": "markdown",
      "id": "7848cb51",
      "metadata": {},
      "source": [
        "## ⚙️ Flujo y estructura\n",
        "\n",
        "Flujo:\n",
        "1. Usuario sube imagen → endpoint `/vision/detect`.\n",
        "2. VisionService llama al detector (YoloDetector).\n",
        "3. Se revisa intersección con zona restringida.\n",
        "4. OpenCV dibuja: rectángulo rojo (zona) y cajas verdes (detecciones).\n",
        "5. Respuesta JSON + imagen procesada en `app/vision/uploads/processed/`.\n",
        "\n",
        "#### Ejemplo de imagen procesada\n",
        "\n",
        "\n",
        "\n"
      ]
    },
    {
      "cell_type": "markdown",
      "metadata": {},
      "source": [
        "## 1. Preparación del entorno\n",
        "\n",
        "Importamos librerías necesarias:\n"
      ]
    },
    {
      "cell_type": "code",
      "execution_count": null,
      "metadata": {},
      "outputs": [],
      "source": [
        "import cv2\n",
        "import os\n",
        "from app.vision.application.vision_service import VisionService\n",
        "print(\"✅ Librerías cargadas correctamente\")"
      ]
    },
    {
      "cell_type": "markdown",
      "metadata": {},
      "source": [
        "## 2. Definición del Servicio de Visión\n",
        "El servicio implementa:\n",
        "- Cargar imagen\n",
        "- Detectar objetos\n",
        "- Verificar si están dentro de la zona restringida\n",
        "- Guardar imagen resultante con anotaciones\n"
      ]
    },
    {
      "cell_type": "code",
      "execution_count": null,
      "metadata": {},
      "outputs": [],
      "source": [
        "service = VisionService()\n",
        "image_path = \"ruta/a/tu/imagen.jpg\"\n",
        "restricted_area = [(100, 100), (500, 500)]  # ejemplo\n",
        "output_path = \"resultado.jpg\"\n",
        "\n",
        "service.detect_and_save(image_path, restricted_area, output_path)\n",
        "print(\"✅ Proceso terminado, imagen guardada.\")"
      ]
    },
    {
      "cell_type": "markdown",
      "metadata": {},
      "source": [
        "## 3. Visualización de Resultados\n",
        "Para mostrar imágenes en un cuaderno Jupyter usamos `matplotlib`:\n"
      ]
    },
    {
      "cell_type": "code",
      "execution_count": null,
      "metadata": {},
      "outputs": [],
      "source": [
        "import matplotlib.pyplot as plt\n",
        "import matplotlib.image as mpimg\n",
        "\n",
        "img = mpimg.imread(output_path)\n",
        "plt.imshow(img)\n",
        "plt.axis(\"off\")\n",
        "plt.show()"
      ]
    },
    {
      "cell_type": "markdown",
      "metadata": {},
      "source": [
        "## 4. Pruebas Unitarias\n",
        "Incluimos tests automáticos para validar el módulo.\n"
      ]
    },
    {
      "cell_type": "code",
      "execution_count": null,
      "metadata": {},
      "outputs": [],
      "source": [
        "import pytest\n",
        "\n",
        "def test_detect_and_save(tmp_path):\n",
        "    service = VisionService()\n",
        "    image_path = \"ruta/a/tu/imagen.jpg\"\n",
        "    output_path = tmp_path / \"resultado.jpg\"\n",
        "    restricted_area = [(100, 100), (500, 500)]\n",
        "\n",
        "    service.detect_and_save(image_path, restricted_area, str(output_path))\n",
        "    assert output_path.exists()"
      ]
    },
    {
      "cell_type": "markdown",
      "metadata": {},
      "source": [
        "## 5. Conclusión\n",
        "Este cuaderno documenta paso a paso el módulo de visión. \n",
        "El código es funcional y puede extenderse para nuevas tareas como detección de neumonía.\n"
      ]
    }
  ],
  "metadata": {
    "kernelspec": {
      "display_name": "Python 3",
      "language": "python",
      "name": "python3"
    },
    "language_info": {
      "name": "python",
      "version": "3.10"
    }
  },
  "nbformat": 4,
  "nbformat_minor": 5
}
