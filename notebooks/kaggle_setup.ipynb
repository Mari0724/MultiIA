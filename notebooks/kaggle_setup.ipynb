{
 "cells": [
  {
   "cell_type": "markdown",
   "id": "3bca71e2",
   "metadata": {},
   "source": [
    "# 📘 Mini-cuaderno: Descarga y configuración de Dataset Kaggle\n",
    "============================================================\n",
    "\n",
    "1. CONFIGURACIÓN DE CREDENCIALES KAGGLE\n",
    "---------------------------------------\n",
    "Antes de poder descargar datasets desde Kaggle con Python, necesitas las credenciales:\n",
    "- KAGGLE_USERNAME\n",
    "- KAGGLE_KEY\n",
    "\n",
    "Estas credenciales se obtienen en tu perfil de Kaggle (cuenta > API > Create New Token)\n",
    "Eso genera un archivo `kaggle.json` que contiene:"
   ]
  },
  {
   "cell_type": "code",
   "execution_count": null,
   "id": "fb4135af",
   "metadata": {},
   "outputs": [],
   "source": [
    "{\n",
    "  \"username\": \"TU_USUARIO\",\n",
    "  \"key\": \"TU_API_KEY\"\n",
    "}"
   ]
  },
  {
   "cell_type": "markdown",
   "id": "7eaa9e9b",
   "metadata": {},
   "source": [
    "Kaggle espera encontrar este archivo en:\n",
    "    Windows: C:\\Users\\TU_USUARIO\\.kaggle\\kaggle.json\n",
    "    Linux/Mac: ~/.kaggle/kaggle.json\n",
    "\n",
    "\n",
    "## 2. OPCIÓN A: MANUAL (lo clásico)\n",
    "\n",
    "- Descargas `kaggle.json` desde la web de Kaggle.\n",
    "- Lo pones en la carpeta `.kaggle` de tu usuario.\n",
    "- ¡Listo!\n",
    "\n",
    "---\n",
    "\n",
    "## 3. OPCIÓN B: AUTOMÁTICA CON SCRIPT Y .ENV\n",
    "\n",
    "Creamos un `.env` con:\n",
    "KAGGLE_USERNAME=tu_usuario\n",
    "KAGGLE_KEY=tu_api_key\n",
    "\n",
    "Luego usamos este script para generar automáticamente el `kaggle.json`:"
   ]
  },
  {
   "cell_type": "code",
   "execution_count": null,
   "id": "9046dbee",
   "metadata": {},
   "outputs": [],
   "source": [
    "import os\n",
    "import json\n",
    "from pathlib import Path\n",
    "from dotenv import load_dotenv\n",
    "\n",
    "# 1. Cargar credenciales desde el archivo .env\n",
    "load_dotenv()\n",
    "username = os.getenv(\"KAGGLE_USERNAME\")\n",
    "key = os.getenv(\"KAGGLE_KEY\")\n",
    "\n",
    "# 2. Validar credenciales\n",
    "if not username or not key:\n",
    "    raise ValueError(\"⚠️ Faltan KAGGLE_USERNAME o KAGGLE_KEY en el .env\")\n",
    "\n",
    "# 3. Definir ruta donde Kaggle guarda credenciales\n",
    "kaggle_dir = Path.home() / \".kaggle\"\n",
    "kaggle_dir.mkdir(parents=True, exist_ok=True)\n",
    "kaggle_path = kaggle_dir / \"kaggle.json\"\n",
    "\n",
    "# 4. Crear el archivo kaggle.json con las credenciales\n",
    "creds = {\"username\": username, \"key\": key}\n",
    "with open(kaggle_path, \"w\") as f:\n",
    "    json.dump(creds, f)\n",
    "\n",
    "# 5. Ajustar permisos en Linux/Mac (en Windows no aplica)\n",
    "try:\n",
    "    os.chmod(kaggle_path, 0o600)\n",
    "except Exception:\n",
    "    pass\n",
    "\n",
    "print(f\"✅ kaggle.json generado en {kaggle_path}\")"
   ]
  },
  {
   "cell_type": "markdown",
   "id": "858236fe",
   "metadata": {},
   "source": [
    "-----------\n",
    "\n",
    "## 4. DESCARGAR EL DATASET\n",
    "\n",
    "Una vez configuradas las credenciales, puedes usar el API de Kaggle\n",
    "para bajar datasets automáticamente.\n",
    "\n",
    "Ejemplo: descargar \"Chest X-Ray Pneumonia\" dataset:\n"
   ]
  },
  {
   "cell_type": "code",
   "execution_count": null,
   "id": "0f1bd6d8",
   "metadata": {},
   "outputs": [],
   "source": [
    "import os\n",
    "from kaggle.api.kaggle_api_extended import KaggleApi\n",
    "\n",
    "# Carpeta destino dentro del proyecto\n",
    "DATA_DIR = os.path.join(\"app\", \"vision\", \"data\")\n",
    "os.makedirs(DATA_DIR, exist_ok=True)\n",
    "\n",
    "# Inicializar API\n",
    "api = KaggleApi()\n",
    "api.authenticate()\n",
    "\n",
    "# Nombre del dataset en Kaggle\n",
    "DATASET = \"paultimothymooney/chest-xray-pneumonia\"\n",
    "\n",
    "print(f\"⬇️ Descargando dataset {DATASET}...\")\n",
    "api.dataset_download_files(DATASET, path=DATA_DIR, unzip=True)\n",
    "print(f\"✅ Dataset descargado y extraído en: {DATA_DIR}\")"
   ]
  },
  {
   "cell_type": "markdown",
   "id": "f5a0bb2e",
   "metadata": {},
   "source": [
    "\n",
    "Notas:\n",
    "- El dataset se baja y se descomprime en `app/vision/data`.\n",
    "- Allí tendrás las carpetas `train`, `val`, `test` con imágenes.\n",
    "\n",
    "\n",
    "## 5. ACLARACIÓN SOBRE LIBRERÍAS\n",
    "------------------------------\n",
    "- `os`: estándar de Python, para manejar rutas y directorios.\n",
    "- `json`: estándar de Python, para escribir el kaggle.json.\n",
    "- `Path` de `pathlib`: estándar de Python, rutas más cómodas.\n",
    "- `dotenv`: librería externa, para cargar variables desde `.env`.\n",
    "- `kaggle`: librería externa, API oficial de Kaggle para descargas.\n",
    "\n",
    "\n",
    "## 6. NOTA FINAL DE BUENAS PRÁCTICAS\n",
    "---------------------------------\n",
    "- Nunca subas el archivo `kaggle.json` ni el `.env` a GitHub.\n",
    "- Agrega ambos al `.gitignore`.\n",
    "- Si ya configuraste el `kaggle.json` en tu máquina, el script\n",
    "  para generarlo automáticamente se puede borrar o mover a\n",
    "  una carpeta `scripts/` (opcional)."
   ]
  }
 ],
 "metadata": {
  "kernelspec": {
   "display_name": "venv (3.12.10)",
   "language": "python",
   "name": "python3"
  },
  "language_info": {
   "name": "python",
   "version": "3.12.10"
  }
 },
 "nbformat": 4,
 "nbformat_minor": 5
}
