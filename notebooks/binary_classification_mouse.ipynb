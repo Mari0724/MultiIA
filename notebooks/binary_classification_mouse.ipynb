{
 "cells": [
  {
   "cell_type": "markdown",
   "id": "fe97443b",
   "metadata": {},
   "source": [
    "\n",
    "# 📘 Clasificación Binaria con Regresión Logística  \n",
    "### Ejemplo: ¿El gato atrapa al ratón? 🐱🐭  \n",
    "\n",
    "En este cuaderno exploraremos un modelo de **regresión logística** explicamos paso a paso cómo construimos, entrenamos y evaluamos un modelo de clasificación binaria utilizando regresión logística en PyTorch.\n",
    "\n",
    "El objetivo es simular un escenario divertido:  \n",
    "- 🐱 Un gato intenta atrapar a un ratón.\n",
    "\n",
    "- Queremos predecir la probabilidad de éxito dependiendo de dos factores:\n",
    "    - velocidad del gato (0 a 20 m/s)\n",
    "    - energía del gato (0 a 1, normalizada)\n",
    "\n"
   ]
  },
  {
   "cell_type": "markdown",
   "id": "142ae2b5",
   "metadata": {},
   "source": [
    "\n",
    "## 1. Preparación del entorno"
   ]
  },
  {
   "cell_type": "code",
   "execution_count": 5,
   "id": "7f96ccdf",
   "metadata": {},
   "outputs": [
    {
     "name": "stdout",
     "output_type": "stream",
     "text": [
      "Librerías cargadas correctamente ✅\n"
     ]
    }
   ],
   "source": [
    "\n",
    "import torch\n",
    "from torch import nn\n",
    "\n",
    "import os\n",
    "import math\n",
    "\n",
    "import matplotlib.pyplot as plt\n",
    "from sklearn.metrics import accuracy_score, precision_score, recall_score, f1_score\n",
    "from sklearn.metrics import confusion_matrix, ConfusionMatrixDisplay, roc_curve, auc\n",
    "\n",
    "print(\"Librerías cargadas correctamente ✅\")\n"
   ]
  },
  {
   "cell_type": "markdown",
   "id": "4c55d86d",
   "metadata": {},
   "source": [
    "Aquí usamos:\n",
    "\n",
    "- PyTorch para el modelo.\n",
    "- learn para métricas y evaluaciones.\n",
    "- matplotlib para graficar resultados"
   ]
  },
  {
   "cell_type": "markdown",
   "id": "cb649000",
   "metadata": {},
   "source": [
    "## 2. Definición del modelo de Regresión Logística"
   ]
  },
  {
   "cell_type": "code",
   "execution_count": 6,
   "id": "143fd473",
   "metadata": {},
   "outputs": [],
   "source": [
    "\n",
    "class LogisticRegressor(nn.Module):\n",
    "    def __init__(self):\n",
    "        super().__init__()\n",
    "        # Dos entradas (velocidad, energía) → una salida (probabilidad)\n",
    "        self.linear = nn.Linear(2, 1)\n",
    "\n",
    "    def forward(self, x):\n",
    "        # Aplicamos sigmoide para obtener probabilidad entre [0,1]\n",
    "        return torch.sigmoid(self.linear(x))"
   ]
  },
  {
   "cell_type": "markdown",
   "id": "92a93655",
   "metadata": {},
   "source": [
    "📌 Matemáticamente:\n",
    "\n",
    "𝑦= 𝜎 (𝑊1 ⋅ velocidad + 𝑊2 ⋅ energía + b)\n",
    "\n",
    "donde σ es la función sigmoide."
   ]
  },
  {
   "cell_type": "markdown",
   "id": "b31f1621",
   "metadata": {},
   "source": [
    "## 3. Generación de los datos simulados"
   ]
  },
  {
   "cell_type": "code",
   "execution_count": 7,
   "id": "424e9260",
   "metadata": {},
   "outputs": [],
   "source": [
    "# Simulamos 500 ejemplos\n",
    "velocidad = torch.rand(500, 1) * 10      # entre 0 y 10 m/s\n",
    "energia = torch.rand(500, 1)             # entre 0 y 1\n",
    "base = velocidad * energia\n",
    "\n",
    "# Etiquetas: 1 = atrapa, 0 = no atrapa\n",
    "y = ((base + 0.5 * torch.randn(500, 1)) > 3).float()\n",
    "\n",
    "# Concatenamos entradas\n",
    "x = torch.cat([velocidad, energia], dim=1)\n",
    "\n"
   ]
  },
  {
   "cell_type": "markdown",
   "id": "a2ebe43c",
   "metadata": {},
   "source": [
    "Cuanto más rápido y con más energía esté el gato, más probable es que atrape al ratón.\n",
    "\n",
    "Agregamos un poco de ruido aleatorio para que no sea tan perfecto"
   ]
  },
  {
   "cell_type": "markdown",
   "id": "68adb2e1",
   "metadata": {},
   "source": [
    "## 4. Entrenamiento del modelo"
   ]
  },
  {
   "cell_type": "code",
   "execution_count": 8,
   "id": "e6af94ae",
   "metadata": {},
   "outputs": [],
   "source": [
    "\n",
    "model = LogisticRegressor()\n",
    "optim = torch.optim.SGD(model.parameters(), lr=0.1)\n",
    "loss_fn = nn.BCELoss()\n",
    "\n",
    "\n",
    "losses = []\n",
    "for _ in range(500):\n",
    "    pred = model(x)\n",
    "    loss = loss_fn(pred, y)\n",
    "    optim.zero_grad()\n",
    "    loss.backward()\n",
    "    optim.step()\n",
    "    losses.append(loss.item())\n"
   ]
  },
  {
   "cell_type": "markdown",
   "id": "9743f08f",
   "metadata": {},
   "source": [
    "Usamos descenso de gradiente estocástico (SGD) con tasa de aprendizaje 0.1.\n",
    "\n",
    "La función de pérdida es Binary Cross Entropy (BCE), típica en clasificación binaria.\n",
    "\n",
    "Entrenamos durante 500 iteraciones."
   ]
  },
  {
   "cell_type": "markdown",
   "id": "b049fd16",
   "metadata": {},
   "source": [
    "## 5. Curva de pérdida"
   ]
  },
  {
   "cell_type": "code",
   "execution_count": 9,
   "id": "d8ee3f82",
   "metadata": {},
   "outputs": [
    {
     "data": {
      "image/png": "[encoded data removed]",
      "text/plain": [
       "<Figure size 640x480 with 1 Axes>"
      ]
     },
     "metadata": {},
     "output_type": "display_data"
    }
   ],
   "source": [
    "\n",
    "plt.plot(losses)\n",
    "plt.xlabel(\"Epoch\")\n",
    "plt.ylabel(\"BCE Loss\")\n",
    "plt.title(\"Evolución de la pérdida\")\n",
    "plt.show()\n"
   ]
  },
  {
   "cell_type": "markdown",
   "id": "1e3651b7",
   "metadata": {},
   "source": [
    "👉 Esperamos ver cómo la pérdida disminuye con el tiempo, lo cual indica que el modelo está aprendiendo."
   ]
  },
  {
   "cell_type": "markdown",
   "id": "79b4abce",
   "metadata": {},
   "source": [
    "## 6. Evaluacion del modelo"
   ]
  },
  {
   "cell_type": "code",
   "execution_count": 10,
   "id": "5fcf98dd",
   "metadata": {},
   "outputs": [
    {
     "name": "stdout",
     "output_type": "stream",
     "text": [
      "Accuracy: 0.84\n",
      "Precisión: 0.76\n",
      "Sensibilidad (Recall): 0.72\n",
      "F1-Score: 0.74\n"
     ]
    }
   ],
   "source": [
    "\n",
    "with torch.no_grad():\n",
    "    y_pred_prob = model(x).numpy()\n",
    "    y_pred_class = (y_pred_prob >= 0.5).astype(int)\n",
    "\n",
    "acc = accuracy_score(y.numpy(), y_pred_class)\n",
    "prec = precision_score(y.numpy(), y_pred_class)\n",
    "rec = recall_score(y.numpy(), y_pred_class)\n",
    "f1 = f1_score(y.numpy(), y_pred_class)\n",
    "\n",
    "print(f\"Accuracy: {acc:.2f}\")\n",
    "print(f\"Precisión: {prec:.2f}\")\n",
    "print(f\"Sensibilidad (Recall): {rec:.2f}\")\n",
    "print(f\"F1-Score: {f1:.2f}\")\n",
    "\n"
   ]
  },
  {
   "cell_type": "markdown",
   "id": "43f9d14f",
   "metadata": {},
   "source": [
    "- Accuracy: % de aciertos totales.\n",
    "- Precisión: de los que predije como \"1\", cuántos realmente lo eran.\n",
    "- Recall: de los que eran \"1\", cuántos detecté.\n",
    "- F1-score: balance entre precisión y recall."
   ]
  },
  {
   "cell_type": "markdown",
   "id": "d7b3dfea",
   "metadata": {},
   "source": [
    "## 7. Matriz de confusión"
   ]
  },
  {
   "cell_type": "code",
   "execution_count": 11,
   "id": "f42ac30e",
   "metadata": {},
   "outputs": [
    {
     "data": {
      "image/png": "[encoded data removed]",
      "text/plain": [
       "<Figure size 640x480 with 2 Axes>"
      ]
     },
     "metadata": {},
     "output_type": "display_data"
    }
   ],
   "source": [
    "cm = confusion_matrix(y.numpy(), y_pred_class)\n",
    "disp = ConfusionMatrixDisplay(confusion_matrix=cm)\n",
    "disp.plot(cmap=plt.cm.Blues)\n",
    "plt.title(\"Matriz de Confusión\")\n",
    "plt.show()\n"
   ]
  },
  {
   "cell_type": "markdown",
   "id": "5258f1a4",
   "metadata": {},
   "source": [
    "Nos permite ver errores tipo:\n",
    "-  Falsos positivos (predijo atrapa, pero no atrapó).\n",
    "- Falsos negativos (predijo no atrapa, pero sí atrapó)."
   ]
  },
  {
   "cell_type": "markdown",
   "id": "f8b17e92",
   "metadata": {},
   "source": [
    "## 8. Curva ROC y AUC"
   ]
  },
  {
   "cell_type": "code",
   "execution_count": 12,
   "id": "792989ad",
   "metadata": {},
   "outputs": [
    {
     "data": {
      "image/png": "[encoded data removed]",
      "text/plain": [
       "<Figure size 640x480 with 1 Axes>"
      ]
     },
     "metadata": {},
     "output_type": "display_data"
    }
   ],
   "source": [
    "fpr, tpr, _ = roc_curve(y.numpy(), y_pred_prob)\n",
    "roc_auc = auc(fpr, tpr)\n",
    "\n",
    "plt.plot(fpr, tpr, lw=2, label=f\"AUC={roc_auc:.2f}\")\n",
    "plt.plot([0,1],[0,1],'--', color='gray')\n",
    "plt.xlabel(\"False Positive Rate\")\n",
    "plt.ylabel(\"True Positive Rate\")\n",
    "plt.title(\"Curva ROC\")\n",
    "plt.legend(loc=\"lower right\")\n",
    "plt.show()\n"
   ]
  },
  {
   "cell_type": "markdown",
   "id": "8f40e094",
   "metadata": {},
   "source": [
    "La curva ROC muestra el trade-off entre sensibilidad y especificidad.\n",
    "- Un AUC cercano a 1.0 indica excelente desempeño."
   ]
  },
  {
   "cell_type": "markdown",
   "id": "45f2ca1e",
   "metadata": {},
   "source": [
    "## 9. Predicción de ejemplo"
   ]
  },
  {
   "cell_type": "code",
   "execution_count": 13,
   "id": "5e8e0bbe",
   "metadata": {},
   "outputs": [
    {
     "name": "stdout",
     "output_type": "stream",
     "text": [
      "Probabilidad: 0.96 → Clase: 1\n"
     ]
    }
   ],
   "source": [
    "entrada = torch.tensor([[14.5, 0.9]])  # velocidad=14.5, energía=0.9\n",
    "with torch.no_grad():\n",
    "    prob = model(entrada).item()\n",
    "    clase = 1 if prob >= 0.5 else 0\n",
    "\n",
    "print(f\"Probabilidad: {prob:.2f} → Clase: {clase}\")\n"
   ]
  },
  {
   "cell_type": "markdown",
   "id": "a1de1817",
   "metadata": {},
   "source": [
    "Ejemplo:\n",
    "- Si el gato corre 14.5 m/s y está con energía 0.9, hay gran probabilidad de que atrape al ratón."
   ]
  },
  {
   "cell_type": "markdown",
   "id": "8917e999",
   "metadata": {},
   "source": [
    "\n",
    "## 10. Conclusiones  \n",
    "\n",
    "- La **regresión logística** permite clasificar en dos clases (0 o 1) a partir de probabilidades.  \n",
    "- Vimos cómo el **gato atrapa al ratón** depende de su velocidad y energía.  \n",
    "- El modelo logra métricas razonables en un dataset simulado.  \n"
   ]
  }
 ],
 "metadata": {
  "kernelspec": {
   "display_name": "venv (3.12.10)",
   "language": "python",
   "name": "python3"
  },
  "language_info": {
   "codemirror_mode": {
    "name": "ipython",
    "version": 3
   },
   "file_extension": ".py",
   "mimetype": "text/x-python",
   "name": "python",
   "nbconvert_exporter": "python",
   "pygments_lexer": "ipython3",
   "version": "3.12.10"
  }
 },
 "nbformat": 4,
 "nbformat_minor": 5
}
